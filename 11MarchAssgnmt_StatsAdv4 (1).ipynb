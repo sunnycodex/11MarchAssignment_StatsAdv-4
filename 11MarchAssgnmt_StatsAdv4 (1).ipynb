{
 "cells": [
  {
   "cell_type": "markdown",
   "id": "617cd9f9-d27a-4371-95aa-474edf27d1e3",
   "metadata": {},
   "source": [
    "#1\n",
    "\n",
    "A t-test and a z-test are both statistical tests used to compare the means of two groups. The main difference between the two tests is the sample size and the knowledge of the population standard deviation. A t-test is used when the sample size is small (usually less than 30) and the population standard deviation is unknown. On the other hand, a z-test is used when the sample size is large (usually greater than 30) and the population standard deviation is known.\n",
    "\n",
    "In a t-test, the Student's t-distribution is used to calculate the test statistic, while in a z-test, the standard normal distribution is used. The t-distribution has more variability in its tails than the normal distribution, which makes it more appropriate for small samples where the population variance is unknown.\n",
    "\n",
    "A common example of when a t-test might be used is when comparing the means of two groups, such as the average test scores of two classes.\n",
    "\n",
    "An example of when a z-test might be used is when testing proportions, such as whether the proportion of people who prefer one brand over another is significantly different from 50%.\n"
   ]
  },
  {
   "cell_type": "markdown",
   "id": "6174d5b1-95e2-4605-9606-58549fe45d10",
   "metadata": {},
   "source": [
    "#2\n",
    "\n",
    "A one-tailed test is a statistical test in which the critical area of a distribution is one-sided so that it is either greater than or less than a certain value, but not both. This means that the test is used to determine if there is a significant difference between two groups in one direction, either greater than or less than.\n",
    "\n",
    "A two-tailed test, on the other hand, is a statistical test in which the critical area of a distribution is two-sided. This means that the test is used to determine if there is a significant difference between two groups in either direction, either greater than or less than."
   ]
  },
  {
   "cell_type": "markdown",
   "id": "513c7390-cb5e-40e9-a269-fefc1b0d05c1",
   "metadata": {},
   "source": [
    "#3\n",
    "\n",
    "In statistical hypothesis testing, a Type I error is the rejection of a true null hypothesis (also known as a “false positive” finding), while a Type II error is the failure to reject a false null hypothesis (also known as a “false negative” finding).\n",
    "\n",
    "Here’s an example to help illustrate these concepts: Imagine that you are conducting a study to determine if a new drug is effective in treating a certain medical condition. The null hypothesis in this case would be that the drug is not effective, while the alternative hypothesis would be that the drug is effective.\n",
    "\n",
    "A Type I error would occur if you conclude that the drug is effective (rejecting the null hypothesis) when in fact it is not (the null hypothesis is true). This could happen, for example, if the observed improvement in the condition of the patients taking the drug is due to chance rather than the drug itself.\n",
    "\n",
    "A Type II error would occur if you conclude that the drug is not effective (failing to reject the null hypothesis) when in fact it is (the null hypothesis is false). This could happen, for example, if the sample size is too small to detect a significant difference between the group taking the drug and the control group."
   ]
  },
  {
   "cell_type": "raw",
   "id": "0c8c4f61-0e56-4505-b4fb-23309dba78a2",
   "metadata": {},
   "source": [
    "#4\n",
    "\n",
    "Bayes's Theorem is a fundamental concept in probability theory and statistics that describes how to update the probability of a hypothesis based on new evidence.\n",
    "The theorem mathematically connects two types of probabilities: the prior probability (our initial belief about an event) and the conditional probability (the probability of the evidence given the event). \n",
    "\n",
    "The formula for Bayes's Theorem is:\n",
    "\n",
    "P(A|B)= P(B|A).P(A)/P(B)\n",
    "Where:\n",
    " P(A|B) is the posterior probability of event A given that event B has occurred.\n",
    " p(B|A) is the conditional probability of event B given that event A has occurred.\n",
    " P(A) is the prior probability of event A.\n",
    " P(B)  is the probability of event B."
   ]
  },
  {
   "cell_type": "markdown",
   "id": "e8ab49c4-9714-4216-b47e-83677b029eb4",
   "metadata": {},
   "source": [
    "#5\n",
    "\n",
    "A confidence interval is a range of values that you expect your estimate to fall between a certain percentage of the time if you run your experiment again or re-sample the population in the same way. The confidence level is the percentage of times you expect to reproduce an estimate between the upper and lower bounds of the confidence interval, and is set by the alpha value.\n",
    "\n",
    "Sure! Here's an example of how to calculate a confidence interval:\n",
    "\n",
    "Suppose you have a sample of 10 test scores: 80, 95, 90, 90, 95, 75, 75, 85, 90 and 80. The first step is to calculate the sample mean by adding up all the values in your data set and dividing the sum by the number of values in the sample. In this case, the sum of the test scores is 855, so the sample mean is 855/10 = 85.5.\n",
    "\n",
    "Next, you need to determine the standard deviation of the sample. Let's say it's 0.5. You also need to choose a confidence level. The most common confidence level is 95%, which corresponds to an alpha value of p < 0.05.\n",
    "\n",
    "To calculate the confidence interval, you can use the following formula: Confidence interval (CI) = ‾X ± Z (S ÷ √n), where ‾X represents the sample mean, Z represents the Z-value you get from the normal standard distribution, S is the population standard deviation and n represents the sample size you're surveying².\n",
    "\n",
    "In this case, the confidence interval would be calculated as follows: CI = 85.5 ± Z (0.5 ÷ √10). Using a Z-value of 1.96 for a 95% confidence level, we get CI = 85.5 ± (1.96 * (0.5 ÷ √10)) = (85.18, 85.82).\n",
    "\n",
    "This means that we are 95% confident that the true population mean falls within the range of (85.18, 85.82)."
   ]
  },
  {
   "cell_type": "markdown",
   "id": "f92bb521-266c-4944-95ea-41cffe83166e",
   "metadata": {},
   "source": [
    "#6\n",
    "Here's an example of how to use Bayes' Theorem to calculate the probability of an event occurring given prior knowledge of the event's probability and new evidence:\n",
    "\n",
    "Suppose you have a bag with 5 red balls and 4 blue balls. You draw one ball from the bag at random. What is the probability that the ball is red, given that you know it is not blue?\n",
    "\n",
    "Let's use Bayes' Theorem to solve this problem. Let A be the event that the ball is red, and let B be the event that the ball is not blue. We want to find P(A|B), the probability that the ball is red given that it is not blue.\n",
    "\n",
    "First, we need to find P(A), the prior probability that the ball is red. Since there are 5 red balls and 9 balls in total, P(A) = 5/9.\n",
    "\n",
    "Next, we need to find P(B|A), the probability that the ball is not blue given that it is red. Since all red balls are not blue, P(B|A) = 1.\n",
    "\n",
    "Finally, we need to find P(B), the probability that the ball is not blue. Since there are 5 red balls and 4 blue balls, P(B) = 5/9.\n",
    "\n",
    "Now we can use Bayes' Theorem to calculate P(A|B):\n",
    "\n",
    "P(A|B) = (P(B|A) * P(A)) / P(B)\n",
    "       = (1 * (5/9)) / (5/9)\n",
    "       = 1\n",
    "\n",
    "So, given that the ball is not blue, there is a 100% chance that it is red."
   ]
  },
  {
   "cell_type": "markdown",
   "id": "9750fbaa-c741-46af-ab06-0304b5871988",
   "metadata": {},
   "source": [
    "#7\n",
    "\n",
    "To calculate the 95% confidence interval for a sample of data with a mean of 50 and a standard deviation of 5, we can use the following formula: Confidence interval (CI) = ‾X ± Z (S ÷ √n), where ‾X represents the sample mean, Z represents the Z-value you get from the normal standard distribution, S is the population standard deviation and n represents the sample size you're surveying².\n",
    "\n",
    "In this case, since we don't have information about the sample size, we can't calculate the exact confidence interval. However, if we assume a large sample size, the standard error will be small and the confidence interval will be approximately equal to the sample mean plus or minus two times the standard deviation. This is because for a 95% confidence level, the Z-value is approximately 1.96.\n",
    "\n",
    "So, for a large sample size, the 95% confidence interval would be approximately (50 - 1.96 * 5, 50 + 1.96 * 5) = (40.2, 59.8). This means that we are 95% confident that the true population mean falls within this range."
   ]
  },
  {
   "cell_type": "markdown",
   "id": "5962ce0d-32a7-48ca-88b8-6451e6a97302",
   "metadata": {},
   "source": [
    "#8\n",
    "\n",
    "A margin of error tells you how many percentage points your results will differ from the real population value. For example, a 95% confidence interval with a 4 percent margin of error means that your statistic will be within 4 percentage points of the real population value 95% of the time.\n",
    "\n",
    "The relationship between margin of error and sample size is simple: As the sample size increases, the margin of error decreases."
   ]
  },
  {
   "cell_type": "markdown",
   "id": "1716462c-8fd6-44ef-a0c7-7f1bd2998447",
   "metadata": {},
   "source": [
    "#9\n",
    "\n",
    "Given:\n",
    "Value of the data point (x) = 75\n",
    "Population mean (μ) = 70\n",
    "Population standard deviation (σ) = 5\n",
    "Let's calculate the z-score:\n",
    "\n",
    "\n",
    "z = 75-5/5 = 1\n",
    "\n",
    "Interpretation:\n",
    "A z-score of 1 indicates that the data point with a value of 75 is 1 standard deviation above the population mean of 70."
   ]
  },
  {
   "cell_type": "markdown",
   "id": "4201ff4e-f862-421c-85ca-8639a4d10a17",
   "metadata": {},
   "source": [
    "#13\n",
    "\n",
    "Confidence Interval = 65 ± (1.645) * (8 / √50)\n",
    "\n",
    "Confidence Interval = 65 ± 1.820\n",
    "\n",
    "Confidence Interval ≈ (63.18, 66.82)\n",
    "\n",
    "The 90% confidence interval for the true population mean is approximately (63.18, 66.82). This means that we are 90% confident that the true population mean lies within this range based on the provided sample data"
   ]
  }
 ],
 "metadata": {
  "kernelspec": {
   "display_name": "Python 3 (ipykernel)",
   "language": "python",
   "name": "python3"
  },
  "language_info": {
   "codemirror_mode": {
    "name": "ipython",
    "version": 3
   },
   "file_extension": ".py",
   "mimetype": "text/x-python",
   "name": "python",
   "nbconvert_exporter": "python",
   "pygments_lexer": "ipython3",
   "version": "3.10.8"
  }
 },
 "nbformat": 4,
 "nbformat_minor": 5
}
